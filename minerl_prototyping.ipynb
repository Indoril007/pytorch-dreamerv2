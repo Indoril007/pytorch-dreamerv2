{
 "cells": [
  {
   "cell_type": "code",
   "execution_count": 10,
   "id": "76884451-ed58-4dea-8bce-c55eed449870",
   "metadata": {},
   "outputs": [],
   "source": [
    "import minerl\n",
    "from collections import defaultdict\n",
    "\n",
    "import matplotlib.pyplot as plt\n",
    "from matplotlib.pyplot import figure\n",
    "from skimage import color, img_as_ubyte\n",
    "import gym\n",
    "from xvfbwrapper import Xvfb\n",
    "\n",
    "from models import WorldModel\n",
    "from utils import set_config, get_config, minerl_segs_to_batch\n",
    "from video import export_video\n",
    "\n",
    "import torch\n",
    "from torch import optim\n",
    "import numpy as np\n",
    "\n",
    "import os.path as osp\n",
    "from garage import StepType, EpisodeBatch\n",
    "\n",
    "%matplotlib inline"
   ]
  },
  {
   "cell_type": "code",
   "execution_count": 2,
   "id": "806d9738-eec2-409c-a1dc-8b26a6b29666",
   "metadata": {},
   "outputs": [],
   "source": [
    "scaler = torch.cuda.amp.GradScaler(enabled=True)"
   ]
  },
  {
   "cell_type": "code",
   "execution_count": 3,
   "id": "43d8bb7a-c1f4-4001-99b5-178c6bcf007f",
   "metadata": {},
   "outputs": [],
   "source": [
    "def train_world_model_once(world_model, world_optimizer,\n",
    "                           obs, actions, rewards, discounts):\n",
    "\n",
    "    \n",
    "    world_optimizer.zero_grad()\n",
    "\n",
    "\n",
    "    out = world_model(obs, actions)\n",
    "    loss, loss_info = world_model.loss(out, obs, rewards, discounts)\n",
    "\n",
    "    loss.backward()\n",
    "    world_optimizer.step()\n",
    "\n",
    "    print('.')\n",
    "\n",
    "    return out"
   ]
  },
  {
   "cell_type": "code",
   "execution_count": 40,
   "id": "c8eb5253-9537-4734-b45e-9e96dcb5b2c5",
   "metadata": {},
   "outputs": [],
   "source": [
    "set_config('debug')"
   ]
  },
  {
   "cell_type": "code",
   "execution_count": 2,
   "id": "c563fea1-02ec-4c51-b1d0-3b6497ebf955",
   "metadata": {},
   "outputs": [],
   "source": [
    "MINERL_DATASET = '/data/umihebi0/users/james/MineRL'"
   ]
  },
  {
   "cell_type": "code",
   "execution_count": null,
   "id": "1f1986b7-3b50-4af8-acff-f7bbd5486e37",
   "metadata": {},
   "outputs": [],
   "source": [
    "\n",
    "   "
   ]
  },
  {
   "cell_type": "code",
   "execution_count": 6,
   "id": "e241c8ba-fea2-4889-90a0-5d4641a6712e",
   "metadata": {},
   "outputs": [],
   "source": []
  },
  {
   "cell_type": "code",
   "execution_count": null,
   "id": "6c089887-339b-4d84-a353-bafba21f89d8",
   "metadata": {},
   "outputs": [],
   "source": [
    " with torch.no_grad():\n",
    "        for i, ep in enumerate(eps.split()):\n",
    "            obs = (torch.tensor(eps.observations).type(torch.float)\n",
    "                   .unsqueeze(1)).to(global_device()) / 255 - 0.5\n",
    "            actions = (torch.tensor(env_spec.action_space.flatten_n(eps.actions))\n",
    "                       .type(torch.float)).to(global_device())\n",
    "            steps, channels, height, width = obs.shape\n",
    "            embedded_observations = world_model.image_encoder(obs[:5])\n",
    "\n",
    "            # Run first five steps with observations\n",
    "            out = world_model.observe(embedded_observations[:5].unsqueeze(0),\n",
    "                                      actions[:5].unsqueeze(0))\n",
    "            \n",
    "            recon_latent_states = out['latent_states'].reshape(\n",
    "                5, world_model.latent_state_size)\n",
    "\n",
    "            initial_stoch = out['posterior_samples'][:1, -1]\n",
    "            inital_deter = out['deters'][:1, -1]\n",
    "            _, imagined_latent_states, _, _ = (\n",
    "                world_model.imagine(initial_stoch, inital_deter,\n",
    "                                    actions=actions[5:].unsqueeze(1))\n",
    "            )\n",
    "            imagined_latent_states = imagined_latent_states.reshape(\n",
    "                -1, world_model.latent_state_size)\n",
    "            latent_states = torch.cat(\n",
    "                [recon_latent_states, imagined_latent_states], dim=0)\n",
    "\n",
    "            image_recon = world_model.image_decoder(latent_states).reshape(\n",
    "                steps, channels, height, width).cpu().numpy()\n",
    "\n",
    "            image_recon = np.transpose(image_recon, (0, 2, 3, 1))\n",
    "            original_obs = np.transpose(obs.cpu().numpy(), (0, 2, 3, 1))\n",
    "\n",
    "            if original_obs.shape[-1] == 1:\n",
    "                image_recon = np.tile(image_recon, (1, 1, 1, 3))\n",
    "                original_obs = np.tile(original_obs, (1, 1, 1, 3))\n",
    "\n",
    "            original_obs = (original_obs + 0.5) * 255\n",
    "            image_recon = np.clip((image_recon + 0.5) * 255, 0, 255)\n",
    "            original_obs = original_obs.astype(np.uint8)\n",
    "            image_recon = image_recon.astype(np.uint8)\n",
    "\n",
    "            side_by_side = np.concatenate([original_obs, image_recon], axis=2)\n",
    "\n",
    "            fname = osp.join(path, f'imagined_{itr}_{i}.mp4')\n",
    "            export_video(\n",
    "                frames=side_by_side[:, ::-1],\n",
    "                fname=fname,\n",
    "                fps=10\n",
    "            )\n",
    "\n",
    "            wandb.log({\n",
    "                os.path.basename(fname): wandb.Video(fname),\n",
    "            }, step=itr)"
   ]
  },
  {
   "cell_type": "code",
   "execution_count": 7,
   "id": "608a5f1f-9775-4b62-b6b7-0d7bd5dff4be",
   "metadata": {},
   "outputs": [
    {
     "ename": "NameError",
     "evalue": "name 'data' is not defined",
     "output_type": "error",
     "traceback": [
      "\u001b[0;31m---------------------------------------------------------------------------\u001b[0m",
      "\u001b[0;31mNameError\u001b[0m                                 Traceback (most recent call last)",
      "\u001b[0;32m<ipython-input-7-8d87a14824d9>\u001b[0m in \u001b[0;36m<module>\u001b[0;34m\u001b[0m\n\u001b[1;32m      1\u001b[0m \u001b[0;32mwith\u001b[0m \u001b[0mtorch\u001b[0m\u001b[0;34m.\u001b[0m\u001b[0mno_grad\u001b[0m\u001b[0;34m(\u001b[0m\u001b[0;34m)\u001b[0m\u001b[0;34m:\u001b[0m\u001b[0;34m\u001b[0m\u001b[0;34m\u001b[0m\u001b[0m\n\u001b[0;32m----> 2\u001b[0;31m     \u001b[0mlog_reconstructions\u001b[0m\u001b[0;34m(\u001b[0m\u001b[0mdata\u001b[0m\u001b[0;34m,\u001b[0m \u001b[0mdata\u001b[0m\u001b[0;34m.\u001b[0m\u001b[0m_env_spec\u001b[0m\u001b[0;34m,\u001b[0m \u001b[0mworld_model\u001b[0m\u001b[0;34m,\u001b[0m \u001b[0;36m0\u001b[0m\u001b[0;34m,\u001b[0m \u001b[0;34m'./videos'\u001b[0m\u001b[0;34m)\u001b[0m\u001b[0;34m\u001b[0m\u001b[0;34m\u001b[0m\u001b[0m\n\u001b[0m",
      "\u001b[0;31mNameError\u001b[0m: name 'data' is not defined"
     ]
    }
   ],
   "source": [
    "with torch.no_grad():\n",
    "    log_reconstructions(data, data._env_spec, world_model, 0, './videos')"
   ]
  },
  {
   "cell_type": "code",
   "execution_count": 5,
   "id": "1bf06495-1737-4c74-93a6-c35630e86afd",
   "metadata": {
    "collapsed": true,
    "jupyter": {
     "outputs_hidden": true
    },
    "tags": []
   },
   "outputs": [
    {
     "name": "stderr",
     "output_type": "stream",
     "text": [
      "  0%|          | 0/2001 [00:00<?, ?it/s]\n",
      "Process ForkPoolWorker-6:\n",
      "Process ForkPoolWorker-7:\n",
      "Traceback (most recent call last):\n",
      "Traceback (most recent call last):\n",
      "Process ForkPoolWorker-8:\n",
      "Process ForkPoolWorker-5:\n",
      "  File \"/home/mil/james/miniconda3/envs/minerl/lib/python3.8/multiprocessing/process.py\", line 313, in _bootstrap\n",
      "    self.run()\n",
      "  File \"/home/mil/james/miniconda3/envs/minerl/lib/python3.8/multiprocessing/process.py\", line 108, in run\n",
      "    self._target(*self._args, **self._kwargs)\n",
      "  File \"/home/mil/james/miniconda3/envs/minerl/lib/python3.8/multiprocessing/process.py\", line 313, in _bootstrap\n",
      "    self.run()\n",
      "  File \"/home/mil/james/miniconda3/envs/minerl/lib/python3.8/multiprocessing/pool.py\", line 114, in worker\n",
      "    task = get()\n",
      "  File \"/home/mil/james/miniconda3/envs/minerl/lib/python3.8/multiprocessing/process.py\", line 108, in run\n",
      "    self._target(*self._args, **self._kwargs)\n",
      "Traceback (most recent call last):\n",
      "  File \"/home/mil/james/miniconda3/envs/minerl/lib/python3.8/multiprocessing/pool.py\", line 114, in worker\n",
      "    task = get()\n",
      "  File \"/home/mil/james/miniconda3/envs/minerl/lib/python3.8/multiprocessing/queues.py\", line 355, in get\n",
      "    with self._rlock:\n",
      "Traceback (most recent call last):\n",
      "  File \"/home/mil/james/miniconda3/envs/minerl/lib/python3.8/multiprocessing/process.py\", line 313, in _bootstrap\n",
      "    self.run()\n",
      "  File \"/home/mil/james/miniconda3/envs/minerl/lib/python3.8/multiprocessing/queues.py\", line 355, in get\n",
      "    with self._rlock:\n",
      "  File \"/home/mil/james/miniconda3/envs/minerl/lib/python3.8/multiprocessing/synchronize.py\", line 95, in __enter__\n",
      "    return self._semlock.__enter__()\n",
      "  File \"/home/mil/james/miniconda3/envs/minerl/lib/python3.8/multiprocessing/process.py\", line 108, in run\n",
      "    self._target(*self._args, **self._kwargs)\n",
      "  File \"/home/mil/james/miniconda3/envs/minerl/lib/python3.8/multiprocessing/process.py\", line 313, in _bootstrap\n",
      "    self.run()\n",
      "  File \"/home/mil/james/miniconda3/envs/minerl/lib/python3.8/multiprocessing/synchronize.py\", line 95, in __enter__\n",
      "    return self._semlock.__enter__()\n",
      "  File \"/home/mil/james/miniconda3/envs/minerl/lib/python3.8/multiprocessing/pool.py\", line 114, in worker\n",
      "    task = get()\n",
      "KeyboardInterrupt\n",
      "  File \"/home/mil/james/miniconda3/envs/minerl/lib/python3.8/multiprocessing/process.py\", line 108, in run\n",
      "    self._target(*self._args, **self._kwargs)\n",
      "  File \"/home/mil/james/miniconda3/envs/minerl/lib/python3.8/multiprocessing/queues.py\", line 356, in get\n",
      "    res = self._reader.recv_bytes()\n",
      "KeyboardInterrupt\n",
      "  File \"/home/mil/james/miniconda3/envs/minerl/lib/python3.8/multiprocessing/connection.py\", line 216, in recv_bytes\n",
      "    buf = self._recv_bytes(maxlength)\n",
      "  File \"/home/mil/james/miniconda3/envs/minerl/lib/python3.8/multiprocessing/connection.py\", line 414, in _recv_bytes\n",
      "    buf = self._recv(4)\n",
      "  File \"/home/mil/james/miniconda3/envs/minerl/lib/python3.8/multiprocessing/connection.py\", line 379, in _recv\n",
      "    chunk = read(handle, remaining)\n",
      "KeyboardInterrupt\n",
      "  File \"/home/mil/james/miniconda3/envs/minerl/lib/python3.8/multiprocessing/pool.py\", line 114, in worker\n",
      "    task = get()\n",
      "  File \"/home/mil/james/miniconda3/envs/minerl/lib/python3.8/multiprocessing/queues.py\", line 355, in get\n",
      "    with self._rlock:\n",
      "  File \"/home/mil/james/miniconda3/envs/minerl/lib/python3.8/multiprocessing/synchronize.py\", line 95, in __enter__\n",
      "    return self._semlock.__enter__()\n",
      "KeyboardInterrupt\n"
     ]
    }
   ],
   "source": [
    "data = minerl.data.make('MineRLTreechop-v0', data_dir=MINERL_DATASET)\n",
    "state, player_action, reward_from_action, next_state, is_next_state_terminal = next(data.load_data(data.get_trajectory_names()[0]))"
   ]
  },
  {
   "cell_type": "code",
   "execution_count": null,
   "id": "1dd86797-e5be-4ffd-bffb-e62699e3b2da",
   "metadata": {},
   "outputs": [],
   "source": [
    "def log_reconstructions(data, env_spec, world_model, itr, path, n=3):\n",
    "    obs, actions, rewards, discounts = segs\n",
    "    \n",
    "    n, seq, channels, height, width = obs.shape\n",
    "    embedded = world_model.image_encoder(obs.reshape(n*seq, channels, height, width))\n",
    "    out = world_model.observe(embedded.reshape(n, seq, -1), actions)\n",
    "    image_recon = world_model.image_decoder(\n",
    "        out['latent_states'].reshape(n*seq, -1),\n",
    "    ).reshape(n, seq, channels, height, width).cpu().numpy()\n",
    "    \n",
    "    image_recon = np.clip(\n",
    "        (np.transpose(image_recon, (0, 1, 3, 4, 2)) + 0.5) * 255,\n",
    "        0, 255).astype(np.uint8)\n",
    "    original_obs = ((np.transpose(obs.cpu().numpy(), (0, 1, 3, 4, 2)) + 0.5) * 255).astype(np.uint8)\n",
    "    side_by_side = np.concatenate([original_obs, image_recon], axis=3)\n",
    "    \n",
    "    for i, img in enumerate(side_by_side):\n",
    "        fname = osp.join(path, f'reconstructed_{itr}_{i}.mp4')\n",
    "        export_video(\n",
    "            frames=img[:, ::-1],\n",
    "            fname=fname,\n",
    "            fps=10\n",
    "        )\n",
    "\n",
    "        wandb.log({\n",
    "            os.path.basename(fname): wandb.Video(fname),\n",
    "        }, step=itr)"
   ]
  },
  {
   "cell_type": "code",
   "execution_count": 7,
   "id": "2b09a8cf-fab1-4c1c-80b9-1d1c8c2980a6",
   "metadata": {
    "tags": []
   },
   "outputs": [
    {
     "data": {
      "text/plain": [
       "array([1. , 0. , 1. , 0. , 0.5, 0.5, 0. , 1. , 1. , 0. , 1. , 0. , 1. ,\n",
       "       0. , 1. , 0. , 1. , 0. ])"
      ]
     },
     "execution_count": 7,
     "metadata": {},
     "output_type": "execute_result"
    }
   ],
   "source": [
    "data._env_spec.action_space.flat_map(player_action)"
   ]
  },
  {
   "cell_type": "code",
   "execution_count": 20,
   "id": "db55b1c7-b05d-49cd-b219-08007b3f8e4d",
   "metadata": {},
   "outputs": [
    {
     "data": {
      "text/plain": [
       "209"
      ]
     },
     "execution_count": 20,
     "metadata": {},
     "output_type": "execute_result"
    }
   ],
   "source": [
    "len(data.get_trajectory_names())"
   ]
  },
  {
   "cell_type": "code",
   "execution_count": 44,
   "id": "44b9583d-ba44-4bd8-8ae3-016441854eec",
   "metadata": {},
   "outputs": [],
   "source": [
    "def sample_minerl_segments(data, n=1, segment_length=50):\n",
    "    episodes = np.random.choice(len(data), size=n)\n",
    "    observations = []\n",
    "    actions = []\n",
    "    rewards = []\n",
    "    dones = []\n",
    "    for i in episodes:\n",
    "        ep = data[i]\n",
    "        length = len(ep['observations'])\n",
    "        start = min(np.random.randint(length),\n",
    "                    length-segment_length)\n",
    "        end = start + segment_length\n",
    "        \n",
    "        observations.append(ep['observations'][start:end])\n",
    "        actions.append(ep['actions'][start:end])\n",
    "        rewards.append(ep['rewards'][start:end])\n",
    "        dones.append(ep['dones'][start:end])\n",
    "        \n",
    "    device = 'cpu'\n",
    "\n",
    "    obs = torch.tensor(\n",
    "        np.transpose(observations, (0, 1, 4, 2, 3)) / 255 - 0.5,\n",
    "        device=device,\n",
    "        dtype=torch.float)\n",
    "\n",
    "    actions = torch.tensor(\n",
    "        np.array(actions),\n",
    "        device=device,\n",
    "        dtype=torch.float\n",
    "    )\n",
    "\n",
    "    rewards = torch.tensor(np.array(rewards), device=device, dtype=torch.float)\n",
    "\n",
    "    discounts = torch.tensor(1-np.array(dones), device=device, dtype=torch.float)\n",
    "\n",
    "    return obs, actions, rewards, discounts"
   ]
  },
  {
   "cell_type": "code",
   "execution_count": 29,
   "id": "57d1a494-4059-4988-8383-9fe049c96f71",
   "metadata": {},
   "outputs": [],
   "source": [
    "obs, actions, rewards, discounts = sample_segments(episodes, n=3)"
   ]
  },
  {
   "cell_type": "code",
   "execution_count": 31,
   "id": "c2200618-8544-40db-9213-fa6740551003",
   "metadata": {},
   "outputs": [
    {
     "data": {
      "text/plain": [
       "torch.Size([3, 50, 3, 64, 64])"
      ]
     },
     "execution_count": 31,
     "metadata": {},
     "output_type": "execute_result"
    }
   ],
   "source": []
  },
  {
   "cell_type": "code",
   "execution_count": 21,
   "id": "fb62d2f8-db69-4520-9b6d-a1595f001ee4",
   "metadata": {
    "collapsed": true,
    "jupyter": {
     "outputs_hidden": true
    },
    "tags": []
   },
   "outputs": [
    {
     "name": "stderr",
     "output_type": "stream",
     "text": [
      "100%|██████████| 1985/1985 [00:00<00:00, 13188.51it/s]\n"
     ]
    },
    {
     "name": "stdout",
     "output_type": "stream",
     "text": [
      "0\n"
     ]
    },
    {
     "name": "stderr",
     "output_type": "stream",
     "text": [
      "100%|██████████| 2231/2231 [00:00<00:00, 13340.42it/s]\n",
      "100%|██████████| 1941/1941 [00:00<00:00, 13227.52it/s]\n",
      "100%|██████████| 2523/2523 [00:00<00:00, 13303.77it/s]\n",
      "100%|██████████| 1843/1843 [00:00<00:00, 12526.52it/s]\n",
      "100%|██████████| 2281/2281 [00:00<00:00, 13985.78it/s]\n",
      "100%|██████████| 2457/2457 [00:00<00:00, 13592.47it/s]\n",
      "100%|██████████| 4135/4135 [00:00<00:00, 12250.26it/s]\n",
      "100%|██████████| 2230/2230 [00:00<00:00, 11931.57it/s]\n",
      "100%|██████████| 2729/2729 [00:00<00:00, 13201.77it/s]\n",
      "100%|██████████| 2651/2651 [00:00<00:00, 12431.88it/s]\n",
      "100%|██████████| 5678/5678 [00:00<00:00, 12915.54it/s]\n",
      "100%|██████████| 1964/1964 [00:00<00:00, 13912.42it/s]\n",
      "100%|██████████| 1840/1840 [00:00<00:00, 13809.67it/s]\n",
      "100%|██████████| 2984/2984 [00:00<00:00, 13591.27it/s]\n",
      "100%|██████████| 1674/1674 [00:00<00:00, 13644.89it/s]\n",
      "100%|██████████| 2038/2038 [00:00<00:00, 12148.25it/s]\n",
      "100%|██████████| 2853/2853 [00:00<00:00, 13101.09it/s]\n",
      "100%|██████████| 2122/2122 [00:00<00:00, 13593.85it/s]\n",
      "100%|██████████| 2631/2631 [00:00<00:00, 13390.12it/s]\n",
      "100%|██████████| 1885/1885 [00:00<00:00, 12058.42it/s]\n",
      "100%|██████████| 1606/1606 [00:00<00:00, 13069.71it/s]\n",
      "100%|██████████| 2544/2544 [00:00<00:00, 13287.48it/s]\n",
      "100%|██████████| 2433/2433 [00:00<00:00, 13118.35it/s]\n",
      "100%|██████████| 1975/1975 [00:00<00:00, 12052.70it/s]\n",
      "100%|██████████| 2075/2075 [00:00<00:00, 13168.20it/s]\n",
      "100%|██████████| 1717/1717 [00:00<00:00, 13027.58it/s]\n",
      "100%|██████████| 1494/1494 [00:00<00:00, 11816.19it/s]\n",
      "100%|██████████| 2700/2700 [00:00<00:00, 13203.84it/s]\n",
      "100%|██████████| 1529/1529 [00:00<00:00, 13134.02it/s]\n",
      "100%|██████████| 1888/1888 [00:00<00:00, 13040.48it/s]\n",
      "100%|██████████| 2063/2063 [00:00<00:00, 12104.07it/s]\n",
      "100%|██████████| 1795/1795 [00:00<00:00, 13090.18it/s]\n",
      "100%|██████████| 2381/2381 [00:00<00:00, 13168.89it/s]\n",
      "100%|██████████| 2144/2144 [00:00<00:00, 14692.02it/s]\n",
      "100%|██████████| 1537/1537 [00:00<00:00, 13361.92it/s]\n",
      "100%|██████████| 1751/1751 [00:00<00:00, 11885.50it/s]\n",
      "100%|██████████| 1918/1918 [00:00<00:00, 13122.66it/s]\n",
      "100%|██████████| 1949/1949 [00:00<00:00, 11934.98it/s]\n",
      "100%|██████████| 1574/1574 [00:00<00:00, 12997.84it/s]\n",
      "100%|██████████| 1909/1909 [00:00<00:00, 13132.05it/s]\n",
      "100%|██████████| 2886/2886 [00:00<00:00, 13192.90it/s]\n",
      "100%|██████████| 3097/3097 [00:00<00:00, 13834.99it/s]\n",
      "100%|██████████| 3509/3509 [00:00<00:00, 13327.60it/s]\n",
      "100%|██████████| 1818/1818 [00:00<00:00, 13028.28it/s]\n",
      "100%|██████████| 2153/2153 [00:00<00:00, 13024.38it/s]\n",
      "100%|██████████| 1830/1830 [00:00<00:00, 13032.29it/s]\n",
      "100%|██████████| 2168/2168 [00:00<00:00, 11934.15it/s]\n",
      "100%|██████████| 2149/2149 [00:00<00:00, 13169.71it/s]\n",
      "100%|██████████| 1655/1655 [00:00<00:00, 13030.43it/s]\n",
      "100%|██████████| 1379/1379 [00:00<00:00, 12005.12it/s]\n"
     ]
    },
    {
     "name": "stdout",
     "output_type": "stream",
     "text": [
      "50\n"
     ]
    },
    {
     "name": "stderr",
     "output_type": "stream",
     "text": [
      "100%|██████████| 1615/1615 [00:00<00:00, 13609.03it/s]\n",
      "100%|██████████| 2761/2761 [00:00<00:00, 13361.51it/s]\n",
      "100%|██████████| 1630/1630 [00:00<00:00, 12964.68it/s]\n",
      "100%|██████████| 1939/1939 [00:00<00:00, 11820.37it/s]\n",
      "100%|██████████| 3017/3017 [00:00<00:00, 12011.23it/s]\n",
      "100%|██████████| 2931/2931 [00:00<00:00, 11821.50it/s]\n",
      "100%|██████████| 2216/2216 [00:00<00:00, 13154.52it/s]\n",
      "100%|██████████| 2580/2580 [00:00<00:00, 13128.87it/s]\n",
      "100%|██████████| 2556/2556 [00:00<00:00, 13206.68it/s]\n",
      "100%|██████████| 1767/1767 [00:00<00:00, 13223.45it/s]\n",
      "100%|██████████| 1603/1603 [00:00<00:00, 11824.06it/s]\n",
      "100%|██████████| 2139/2139 [00:00<00:00, 12084.17it/s]\n",
      "100%|██████████| 2477/2477 [00:00<00:00, 11749.73it/s]\n",
      "100%|██████████| 2557/2557 [00:00<00:00, 13176.15it/s]\n",
      "100%|██████████| 2460/2460 [00:00<00:00, 13576.14it/s]\n",
      "100%|██████████| 1792/1792 [00:00<00:00, 13342.62it/s]\n",
      "100%|██████████| 1718/1718 [00:00<00:00, 13043.69it/s]\n",
      "100%|██████████| 1624/1624 [00:00<00:00, 11878.19it/s]\n",
      "100%|██████████| 4383/4383 [00:00<00:00, 12263.69it/s]\n",
      "100%|██████████| 2193/2193 [00:00<00:00, 13039.84it/s]\n",
      "100%|██████████| 2050/2050 [00:00<00:00, 12974.47it/s]\n",
      "100%|██████████| 1677/1677 [00:00<00:00, 13685.22it/s]\n",
      "100%|██████████| 2461/2461 [00:00<00:00, 11979.33it/s]\n",
      "100%|██████████| 1669/1669 [00:00<00:00, 11942.47it/s]\n",
      "100%|██████████| 1680/1680 [00:00<00:00, 14272.99it/s]\n",
      "100%|██████████| 4578/4578 [00:00<00:00, 13382.20it/s]\n",
      "100%|██████████| 1779/1779 [00:00<00:00, 11823.76it/s]\n",
      "100%|██████████| 2495/2495 [00:00<00:00, 13706.25it/s]\n",
      "100%|██████████| 3257/3257 [00:00<00:00, 12525.33it/s]\n",
      "100%|██████████| 2669/2669 [00:00<00:00, 13206.00it/s]\n",
      "100%|██████████| 2152/2152 [00:00<00:00, 12916.11it/s]\n",
      "100%|██████████| 1384/1384 [00:00<00:00, 12718.09it/s]\n",
      "100%|██████████| 1528/1528 [00:00<00:00, 11830.16it/s]\n",
      "100%|██████████| 1803/1803 [00:00<00:00, 12909.94it/s]\n",
      "100%|██████████| 2531/2531 [00:00<00:00, 12284.17it/s]\n",
      "100%|██████████| 1963/1963 [00:00<00:00, 13052.80it/s]\n",
      "100%|██████████| 1581/1581 [00:00<00:00, 11957.34it/s]\n",
      "100%|██████████| 2159/2159 [00:00<00:00, 13205.37it/s]\n",
      "100%|██████████| 1979/1979 [00:00<00:00, 11808.54it/s]\n",
      "100%|██████████| 3615/3615 [00:00<00:00, 13124.52it/s]\n",
      "100%|██████████| 1762/1762 [00:00<00:00, 11733.34it/s]\n",
      "100%|██████████| 1844/1844 [00:00<00:00, 13151.42it/s]\n",
      "100%|██████████| 1766/1766 [00:00<00:00, 11914.39it/s]\n",
      "100%|██████████| 1465/1465 [00:00<00:00, 11677.99it/s]\n",
      "100%|██████████| 1549/1549 [00:00<00:00, 13289.05it/s]\n",
      "100%|██████████| 2661/2661 [00:00<00:00, 13796.80it/s]\n",
      "100%|██████████| 2582/2582 [00:00<00:00, 11871.47it/s]\n",
      "100%|██████████| 1784/1784 [00:00<00:00, 11904.30it/s]\n",
      "100%|██████████| 1639/1639 [00:00<00:00, 12932.21it/s]\n",
      "100%|██████████| 1672/1672 [00:00<00:00, 12434.00it/s]\n"
     ]
    },
    {
     "name": "stdout",
     "output_type": "stream",
     "text": [
      "100\n"
     ]
    },
    {
     "name": "stderr",
     "output_type": "stream",
     "text": [
      "100%|██████████| 1944/1944 [00:00<00:00, 13179.57it/s]\n",
      "100%|██████████| 1670/1670 [00:00<00:00, 12784.73it/s]\n",
      "100%|██████████| 1538/1538 [00:00<00:00, 11879.10it/s]\n",
      "100%|██████████| 1945/1945 [00:00<00:00, 11797.87it/s]\n",
      "100%|██████████| 2094/2094 [00:00<00:00, 13198.36it/s]\n",
      "100%|██████████| 2194/2194 [00:00<00:00, 13091.35it/s]\n",
      "100%|██████████| 1528/1528 [00:00<00:00, 12369.62it/s]\n",
      "100%|██████████| 1573/1573 [00:00<00:00, 12798.53it/s]\n",
      "100%|██████████| 2632/2632 [00:00<00:00, 13707.76it/s]\n",
      "100%|██████████| 2851/2851 [00:00<00:00, 11976.93it/s]\n",
      "100%|██████████| 3531/3531 [00:00<00:00, 13475.82it/s]\n",
      "100%|██████████| 1452/1452 [00:00<00:00, 13372.59it/s]\n",
      "100%|██████████| 1761/1761 [00:00<00:00, 14416.14it/s]\n",
      "100%|██████████| 1872/1872 [00:00<00:00, 12161.36it/s]\n",
      "100%|██████████| 1583/1583 [00:00<00:00, 11720.65it/s]\n",
      "100%|██████████| 1967/1967 [00:00<00:00, 12754.71it/s]\n",
      "100%|██████████| 2776/2776 [00:00<00:00, 12028.75it/s]\n",
      "100%|██████████| 2195/2195 [00:00<00:00, 12450.01it/s]\n",
      "100%|██████████| 1877/1877 [00:00<00:00, 11673.54it/s]\n",
      "100%|██████████| 1900/1900 [00:00<00:00, 12020.08it/s]\n",
      "100%|██████████| 1790/1790 [00:00<00:00, 11928.13it/s]\n",
      "100%|██████████| 1535/1535 [00:00<00:00, 12790.56it/s]\n",
      "100%|██████████| 2175/2175 [00:00<00:00, 11818.40it/s]\n",
      "100%|██████████| 1519/1519 [00:00<00:00, 11758.75it/s]\n",
      "100%|██████████| 3396/3396 [00:00<00:00, 13199.90it/s]\n",
      "100%|██████████| 2084/2084 [00:00<00:00, 13099.36it/s]\n",
      "100%|██████████| 2686/2686 [00:00<00:00, 12176.86it/s]\n",
      "100%|██████████| 3037/3037 [00:00<00:00, 13462.65it/s]\n",
      "100%|██████████| 1863/1863 [00:00<00:00, 12366.74it/s]\n",
      "100%|██████████| 1746/1746 [00:00<00:00, 13607.80it/s]\n",
      "100%|██████████| 2794/2794 [00:00<00:00, 13168.44it/s]\n",
      "100%|██████████| 1930/1930 [00:00<00:00, 11869.55it/s]\n",
      "100%|██████████| 1821/1821 [00:00<00:00, 13176.35it/s]\n",
      "100%|██████████| 1854/1854 [00:00<00:00, 13039.11it/s]\n",
      "100%|██████████| 1824/1824 [00:00<00:00, 12325.85it/s]\n",
      "100%|██████████| 2014/2014 [00:00<00:00, 12782.06it/s]\n",
      "100%|██████████| 1384/1384 [00:00<00:00, 12785.01it/s]\n",
      "100%|██████████| 3577/3577 [00:00<00:00, 13571.74it/s]\n",
      "100%|██████████| 2215/2215 [00:00<00:00, 14094.81it/s]\n",
      "100%|██████████| 2115/2115 [00:00<00:00, 13158.78it/s]\n",
      "100%|██████████| 1593/1593 [00:00<00:00, 12858.93it/s]\n",
      "100%|██████████| 2413/2413 [00:00<00:00, 11946.68it/s]\n",
      "100%|██████████| 1520/1520 [00:00<00:00, 11702.23it/s]\n",
      "100%|██████████| 1889/1889 [00:00<00:00, 13387.49it/s]\n",
      "100%|██████████| 1628/1628 [00:00<00:00, 15188.81it/s]\n",
      "100%|██████████| 1951/1951 [00:00<00:00, 13410.63it/s]\n",
      "100%|██████████| 3139/3139 [00:00<00:00, 13356.79it/s]\n",
      "100%|██████████| 1528/1528 [00:00<00:00, 11720.97it/s]\n",
      "100%|██████████| 1505/1505 [00:00<00:00, 12849.41it/s]\n",
      "100%|██████████| 2468/2468 [00:00<00:00, 12001.91it/s]\n"
     ]
    },
    {
     "name": "stdout",
     "output_type": "stream",
     "text": [
      "150\n"
     ]
    },
    {
     "name": "stderr",
     "output_type": "stream",
     "text": [
      "100%|██████████| 1774/1774 [00:00<00:00, 11676.37it/s]\n",
      "100%|██████████| 1654/1654 [00:00<00:00, 12768.05it/s]\n",
      "100%|██████████| 1568/1568 [00:00<00:00, 13056.98it/s]\n",
      "100%|██████████| 2792/2792 [00:00<00:00, 13191.40it/s]\n",
      "100%|██████████| 1867/1867 [00:00<00:00, 11553.94it/s]\n",
      "100%|██████████| 2750/2750 [00:00<00:00, 13410.46it/s]\n",
      "100%|██████████| 2184/2184 [00:00<00:00, 13730.03it/s]\n",
      "100%|██████████| 1703/1703 [00:00<00:00, 12047.94it/s]\n",
      "100%|██████████| 1909/1909 [00:00<00:00, 12215.85it/s]\n",
      "100%|██████████| 1668/1668 [00:00<00:00, 11904.55it/s]\n",
      "100%|██████████| 1845/1845 [00:00<00:00, 13387.37it/s]\n",
      "100%|██████████| 2525/2525 [00:00<00:00, 12228.33it/s]\n",
      "100%|██████████| 1599/1599 [00:00<00:00, 12851.71it/s]\n",
      "100%|██████████| 2441/2441 [00:00<00:00, 13268.54it/s]\n",
      "100%|██████████| 2014/2014 [00:00<00:00, 11797.63it/s]\n",
      "100%|██████████| 2586/2586 [00:00<00:00, 12052.64it/s]\n",
      "100%|██████████| 1697/1697 [00:00<00:00, 13127.12it/s]\n",
      "100%|██████████| 2001/2001 [00:00<00:00, 11919.48it/s]\n",
      "100%|██████████| 1950/1950 [00:00<00:00, 13166.83it/s]\n",
      "100%|██████████| 2460/2460 [00:00<00:00, 11900.07it/s]\n",
      "100%|██████████| 1787/1787 [00:00<00:00, 13986.49it/s]\n",
      "100%|██████████| 2131/2131 [00:00<00:00, 11819.03it/s]\n",
      "100%|██████████| 1635/1635 [00:00<00:00, 11663.41it/s]\n",
      "100%|██████████| 1675/1675 [00:00<00:00, 11724.44it/s]\n",
      "100%|██████████| 2845/2845 [00:00<00:00, 11936.51it/s]\n",
      "100%|██████████| 1674/1674 [00:00<00:00, 13018.66it/s]\n",
      "100%|██████████| 1950/1950 [00:00<00:00, 12097.95it/s]\n",
      "100%|██████████| 1872/1872 [00:00<00:00, 13294.04it/s]\n",
      "100%|██████████| 1963/1963 [00:00<00:00, 13212.62it/s]\n",
      "100%|██████████| 3228/3228 [00:00<00:00, 13388.15it/s]\n",
      "100%|██████████| 2176/2176 [00:00<00:00, 11963.12it/s]\n",
      "100%|██████████| 2050/2050 [00:00<00:00, 11910.60it/s]\n",
      "100%|██████████| 2389/2389 [00:00<00:00, 13100.14it/s]\n",
      "100%|██████████| 3250/3250 [00:00<00:00, 13252.67it/s]\n",
      "100%|██████████| 1761/1761 [00:00<00:00, 12926.53it/s]\n",
      "100%|██████████| 2255/2255 [00:00<00:00, 13295.60it/s]\n",
      "100%|██████████| 1570/1570 [00:00<00:00, 11628.17it/s]\n",
      "100%|██████████| 1926/1926 [00:00<00:00, 11970.11it/s]\n",
      "100%|██████████| 2438/2438 [00:00<00:00, 13206.93it/s]\n",
      "100%|██████████| 2144/2144 [00:00<00:00, 13058.06it/s]\n",
      "100%|██████████| 1417/1417 [00:00<00:00, 12809.23it/s]\n",
      "100%|██████████| 4390/4390 [00:00<00:00, 13702.61it/s]\n",
      "100%|██████████| 1608/1608 [00:00<00:00, 13460.91it/s]\n",
      "100%|██████████| 1751/1751 [00:00<00:00, 13466.70it/s]\n",
      "100%|██████████| 2013/2013 [00:00<00:00, 11931.23it/s]\n",
      "100%|██████████| 1806/1806 [00:00<00:00, 11717.60it/s]\n",
      "100%|██████████| 3017/3017 [00:00<00:00, 13394.91it/s]\n",
      "100%|██████████| 1961/1961 [00:00<00:00, 13528.92it/s]\n",
      "100%|██████████| 2717/2717 [00:00<00:00, 11976.43it/s]\n",
      "100%|██████████| 2146/2146 [00:00<00:00, 12982.11it/s]\n"
     ]
    },
    {
     "name": "stdout",
     "output_type": "stream",
     "text": [
      "200\n"
     ]
    },
    {
     "name": "stderr",
     "output_type": "stream",
     "text": [
      "100%|██████████| 1565/1565 [00:00<00:00, 12959.52it/s]\n",
      "100%|██████████| 1853/1853 [00:00<00:00, 12676.47it/s]\n",
      "100%|██████████| 2122/2122 [00:00<00:00, 11987.39it/s]\n",
      "100%|██████████| 1739/1739 [00:00<00:00, 13158.18it/s]\n",
      "100%|██████████| 2898/2898 [00:00<00:00, 12013.47it/s]\n",
      "100%|██████████| 1949/1949 [00:00<00:00, 12989.48it/s]\n",
      "100%|██████████| 1513/1513 [00:00<00:00, 12739.35it/s]\n",
      "100%|██████████| 1669/1669 [00:00<00:00, 13573.25it/s]\n"
     ]
    }
   ],
   "source": [
    "episodes = []\n",
    "\n",
    "observations = []\n",
    "actions = []\n",
    "rewards = []\n",
    "dones = []\n",
    "\n",
    "for i, name in enumerate(data.get_trajectory_names()):\n",
    "    ep = defaultdict(list)\n",
    "    for state, action, reward, next_state, is_next_state_terminal in data.load_data(name):\n",
    "        ep['observations'].append(next_state['pov'])\n",
    "        ep['actions'].append(data._env_spec.action_space.flat_map(action))\n",
    "        ep['rewards'].append(reward)\n",
    "        ep['dones'].append(is_next_state_terminal)\n",
    "    episodes.append(ep)\n",
    "    \n",
    "    if i % 50 == 0:\n",
    "        print(i)"
   ]
  },
  {
   "cell_type": "code",
   "execution_count": 22,
   "id": "5789535b-c1be-4d6b-8862-6d0addbb7d76",
   "metadata": {},
   "outputs": [],
   "source": [
    "import pickle"
   ]
  },
  {
   "cell_type": "code",
   "execution_count": 23,
   "id": "e5e281fb-0003-4866-ba4b-a62193b84c4f",
   "metadata": {},
   "outputs": [],
   "source": [
    "with open('minerldata.pickle', 'wb') as f:\n",
    "    pickle.dump(episodes, f)"
   ]
  },
  {
   "cell_type": "code",
   "execution_count": null,
   "id": "b3f93ee1-3591-4543-af49-683dfb704829",
   "metadata": {},
   "outputs": [],
   "source": [
    "episodes"
   ]
  },
  {
   "cell_type": "code",
   "execution_count": 15,
   "id": "7863a039-531f-468a-a9da-32bd4d6729e9",
   "metadata": {},
   "outputs": [
    {
     "data": {
      "text/plain": [
       "(1668, 64, 64, 3)"
      ]
     },
     "execution_count": 15,
     "metadata": {},
     "output_type": "execute_result"
    }
   ],
   "source": [
    "np.asarray(observations).shape"
   ]
  },
  {
   "cell_type": "code",
   "execution_count": 41,
   "id": "2bba4cbc-d3a4-4bdd-bb54-b60999538f83",
   "metadata": {},
   "outputs": [
    {
     "name": "stderr",
     "output_type": "stream",
     "text": [
      "/home/mil/james/miniconda3/envs/minerl/lib/python3.8/site-packages/gym/logger.py:30: UserWarning: \u001b[33mWARN: Box bound precision lowered by casting to float32\u001b[0m\n",
      "  warnings.warn(colorize('%s: %s'%('WARN', msg % args), 'yellow'))\n"
     ]
    }
   ],
   "source": [
    "world_model = WorldModel(data._env_spec, config=get_config())\n",
    "\n",
    "world_optimizer = optim.Adam(\n",
    "    world_model.parameters(),\n",
    "    lr=get_config().world.lr,\n",
    "    eps=get_config().world.eps,\n",
    "    weight_decay=get_config().world.wd)\n"
   ]
  },
  {
   "cell_type": "code",
   "execution_count": 56,
   "id": "9354d1d7-edee-41e0-bf1d-100966f1ed59",
   "metadata": {},
   "outputs": [],
   "source": [
    "def log_imagined_rollouts(segs,\n",
    "                          env_spec,\n",
    "                          world_model,\n",
    "                          itr,\n",
    "                          path):\n",
    "    \n",
    "    obs, actions, rewards, discounts = segs\n",
    "    n, seq, channels, height, width = obs.shape\n",
    "    \n",
    "    embedded = world_model.image_encoder(\n",
    "        obs.reshape(n*seq, channels, height, width)\n",
    "    ).reshape(n, seq, -1)\n",
    "\n",
    "    out = world_model.observe(embedded[:,:5],\n",
    "                              actions[:,:5])\n",
    "    \n",
    "    initial_stoch = out['posterior_samples'][:, -1]\n",
    "    inital_deter = out['deters'][:, -1]\n",
    "    _, imagined_latent_states, _, _ = (\n",
    "        world_model.imagine(initial_stoch, inital_deter,\n",
    "                            actions=torch.swapaxes(actions, 0, 1)[5:])\n",
    "    )\n",
    "    imagined_latent_states = torch.swapaxes(imagined_latent_states, 0, 1)\n",
    "    \n",
    "    latent_states = torch.cat([\n",
    "        out['latent_states'], imagined_latent_states\n",
    "    ], dim=1)\n",
    "    \n",
    "    n, seq, feat = latent_states.shape\n",
    "    \n",
    "    image_recon = world_model.image_decoder(\n",
    "        latent_states.reshape(n*seq, feat)).reshape(n, seq, channels, height, width).cpu().numpy()\n",
    "\n",
    "    image_recon = np.transpose(image_recon, (0, 1, 3, 4, 2))\n",
    "    original_obs = np.transpose(obs.cpu().numpy(), (0, 1, 3, 4, 2))\n",
    "\n",
    "    original_obs = (original_obs + 0.5) * 255\n",
    "    image_recon = np.clip((image_recon + 0.5) * 255, 0, 255)\n",
    "    original_obs = original_obs.astype(np.uint8)\n",
    "    image_recon = image_recon.astype(np.uint8)\n",
    "\n",
    "    side_by_side = np.concatenate([original_obs, image_recon], axis=3)\n",
    "\n",
    "    for i, img in enumerate(side_by_side):\n",
    "        fname = osp.join(path, f'imagined_{itr}_{i}.mp4')\n",
    "        export_video(\n",
    "            frames=img[:, ::-1],\n",
    "            fname=fname,\n",
    "            fps=10\n",
    "        )"
   ]
  },
  {
   "cell_type": "code",
   "execution_count": 45,
   "id": "7fec735c-1976-4209-bed6-78f27bedb7dc",
   "metadata": {},
   "outputs": [],
   "source": [
    "segs = sample_minerl_segments(episodes, n=3, segment_length=50)"
   ]
  },
  {
   "cell_type": "code",
   "execution_count": 57,
   "id": "a6bcfb97-6d19-4c5f-bfb1-7f2db4c508d0",
   "metadata": {},
   "outputs": [],
   "source": [
    "with torch.no_grad():\n",
    "    log_imagined_rollouts(segs, data._env_spec, world_model, 0, './videos')"
   ]
  },
  {
   "cell_type": "code",
   "execution_count": 35,
   "id": "c97838d3-de56-454c-914e-94658e0d1cd5",
   "metadata": {},
   "outputs": [
    {
     "name": "stdout",
     "output_type": "stream",
     "text": [
      "0\n",
      "1\n",
      "2\n",
      "3\n",
      "4\n",
      "5\n",
      "6\n",
      "7\n",
      "8\n",
      "9\n",
      "10\n",
      "11\n",
      "12\n",
      "13\n",
      "14\n",
      "15\n",
      "16\n",
      "17\n",
      "18\n",
      "19\n",
      "20\n",
      "21\n",
      "22\n",
      "23\n",
      "24\n",
      "25\n",
      "26\n",
      "27\n",
      "28\n",
      "29\n"
     ]
    }
   ],
   "source": [
    "for _ in range(30):\n",
    "    obs, actions, rewards, discounts = sample_minerl_segments(episodes, n=50, segment_length=50)\n",
    "    print(_)\n",
    "\n",
    "\n",
    "#     logger.log(tabular)\n",
    "#     logger.dump_all(trainer.step_itr)\n",
    "#     tabular.clear()\n",
    "#     trainer.step_itr += 1\n"
   ]
  },
  {
   "cell_type": "code",
   "execution_count": null,
   "id": "d0072763-13a2-4532-ab47-df03e7436b46",
   "metadata": {},
   "outputs": [],
   "source": []
  },
  {
   "cell_type": "code",
   "execution_count": 11,
   "id": "5e00c7ed-1b0f-4c3f-b541-ed7c4e26d84c",
   "metadata": {},
   "outputs": [],
   "source": []
  },
  {
   "cell_type": "code",
   "execution_count": null,
   "id": "2b8ae64a-ec47-48a4-b646-99c3f12df8f3",
   "metadata": {},
   "outputs": [],
   "source": []
  }
 ],
 "metadata": {
  "kernelspec": {
   "display_name": "Python [conda env:minerl] *",
   "language": "python",
   "name": "conda-env-minerl-py"
  },
  "language_info": {
   "codemirror_mode": {
    "name": "ipython",
    "version": 3
   },
   "file_extension": ".py",
   "mimetype": "text/x-python",
   "name": "python",
   "nbconvert_exporter": "python",
   "pygments_lexer": "ipython3",
   "version": "3.8.0"
  }
 },
 "nbformat": 4,
 "nbformat_minor": 5
}
